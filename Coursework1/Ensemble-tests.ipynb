{
 "cells": [
  {
   "cell_type": "markdown",
   "metadata": {},
   "source": [
    "# PCA"
   ]
  },
  {
   "cell_type": "markdown",
   "metadata": {},
   "source": [
    "Let's import needed libraries"
   ]
  },
  {
   "cell_type": "code",
   "execution_count": 1,
   "metadata": {},
   "outputs": [],
   "source": [
    "import warnings\n",
    "warnings.filterwarnings(\"ignore\")\n",
    "\n",
    "import scipy.io as sio\n",
    "import numpy as np\n",
    "import matplotlib.pyplot as plt\n",
    "from sklearn.model_selection import train_test_split\n",
    "from sklearn.decomposition import PCA\n",
    "from sklearn.pipeline import Pipeline\n",
    "from sklearn.model_selection import GridSearchCV\n",
    "from sklearn.metrics import confusion_matrix\n",
    "from sklearn.neighbors import KNeighborsClassifier\n",
    "from sklearn.discriminant_analysis import LinearDiscriminantAnalysis\n",
    "from sklearn.ensemble import BaggingClassifier"
   ]
  },
  {
   "cell_type": "code",
   "execution_count": 2,
   "metadata": {},
   "outputs": [],
   "source": [
    "# %load tools.py\n",
    "def plot_gallery(images, titles, h, w, n_row=3, n_col=4):\n",
    "    plt.figure(figsize=(1.8 * n_col, 2.4 * n_row))\n",
    "    plt.subplots_adjust(bottom=0, left=.01, right=.99, top=.90, hspace=.35)\n",
    "    for i in range(n_row * n_col):\n",
    "        plt.subplot(n_row, n_col, i + 1)\n",
    "        plt.imshow(images[i].reshape((h, w)).T, cmap=plt.cm.gray)\n",
    "        plt.title(titles[i], size=12)\n",
    "        plt.xticks(())\n",
    "        plt.yticks(())"
   ]
  },
  {
   "cell_type": "markdown",
   "metadata": {},
   "source": [
    "Define constants"
   ]
  },
  {
   "cell_type": "code",
   "execution_count": 3,
   "metadata": {},
   "outputs": [],
   "source": [
    "h = 46\n",
    "w = 56\n",
    "IMG_SHAPE = (h,w)\n",
    "TEST_RATIO = 0.2\n",
    "FACE_PATH = 'face.mat'"
   ]
  },
  {
   "cell_type": "markdown",
   "metadata": {},
   "source": [
    "Load the dataset and split it into training and testing sets"
   ]
  },
  {
   "cell_type": "code",
   "execution_count": 4,
   "metadata": {},
   "outputs": [
    {
     "name": "stdout",
     "output_type": "stream",
     "text": [
      "Dataset shape :  (520, 2576)\n",
      "Training dataset shape :  (416, 2576)\n",
      "Testing dataset shape :  (104, 2576)\n",
      "Training tag shape :  (416,)\n",
      "Test tag shape :  (104,)\n"
     ]
    }
   ],
   "source": [
    "mat_content = sio.loadmat(FACE_PATH)\n",
    "face_data = np.transpose(mat_content['X'])\n",
    "class_data = np.transpose(mat_content['l'])\n",
    "\n",
    "X_train, X_test, y_train, y_test = train_test_split(face_data, class_data, test_size=TEST_RATIO, stratify=class_data)\n",
    "y_train = y_train.ravel()\n",
    "y_test = y_test.ravel()\n",
    "\n",
    "# Test stratify :\n",
    "# unique, counts = np.unique(y_train, return_counts=True)\n",
    "# print(dict(zip(unique, counts)))\n",
    "\n",
    "print(\"Dataset shape : \", face_data.shape)\n",
    "print(\"Training dataset shape : \", X_train.shape)\n",
    "print(\"Testing dataset shape : \", X_test.shape)\n",
    "print(\"Training tag shape : \", y_train.shape)\n",
    "print(\"Test tag shape : \", y_test.shape)"
   ]
  },
  {
   "cell_type": "markdown",
   "metadata": {},
   "source": [
    "# PCA-LDA Ensemble with low randomness (i.e. PCA and LDA computed globaly)"
   ]
  },
  {
   "cell_type": "code",
   "execution_count": 61,
   "metadata": {},
   "outputs": [
    {
     "name": "stderr",
     "output_type": "stream",
     "text": [
      "/opt/conda/lib/python3.6/site-packages/sklearn/model_selection/_search.py:841: DeprecationWarning: The default of the `iid` parameter will change from True to False in version 0.22 and will be removed in 0.24. This will change numeric results when test-set sizes are unequal.\n",
      "  DeprecationWarning)\n"
     ]
    },
    {
     "data": {
      "text/plain": [
       "GridSearchCV(cv=5, error_score='raise-deprecating',\n",
       "       estimator=Pipeline(memory=None,\n",
       "     steps=[('reduce_dim_PCA', PCA(copy=True, iterated_power='auto', n_components=None, random_state=None,\n",
       "  svd_solver='auto', tol=0.0, whiten=False)), ('reduce_dim_LDA', LinearDiscriminantAnalysis(n_components=None, priors=None, shrinkage=None,\n",
       "              solver='svd', store_covariance=False, tol=0....imators=10, n_jobs=None, oob_score=False, random_state=None,\n",
       "         verbose=0, warm_start=False))]),\n",
       "       fit_params=None, iid='warn', n_jobs=1,\n",
       "       param_grid=[{'reduce_dim_PCA': [PCA(copy=True, iterated_power='auto', n_components=150, random_state=None,\n",
       "  svd_solver='auto', tol=0.0, whiten=True)], 'reduce_dim_PCA__n_components': [150], 'reduce_dim_LDA__n_components': [50], 'classify': [BaggingClassifier(base_estimator=KNeighborsClassifier(algo...00, 250], 'classify__max_features': [0.3, 0.6, 1.0], 'classify__max_samples': [0.1, 0.3, 0.6, 1.0]}],\n",
       "       pre_dispatch='2*n_jobs', refit=True, return_train_score='warn',\n",
       "       scoring=None, verbose=0)"
      ]
     },
     "execution_count": 61,
     "metadata": {},
     "output_type": "execute_result"
    }
   ],
   "source": [
    "pipe = Pipeline([\n",
    "    ('reduce_dim_PCA', PCA()),\n",
    "    ('reduce_dim_LDA', LinearDiscriminantAnalysis()),\n",
    "    ('classify', BaggingClassifier())\n",
    "])\n",
    "\n",
    "N_FEATURES_OPTIONS_PCA = [150]\n",
    "N_FEATURES_OPTIONS_LDA = [50]\n",
    "MAX_FEATURES = [0.3, 0.6, 1.0]\n",
    "MAX_SAMPLES = [0.1, 0.3, 0.6, 1.0]\n",
    "N_BASE_MODELS = [50, 100, 150, 200, 250]\n",
    "\n",
    "param_grid = [\n",
    "    {\n",
    "        'reduce_dim_PCA': [PCA(whiten=True)],\n",
    "        'reduce_dim_PCA__n_components': N_FEATURES_OPTIONS_PCA,\n",
    "        'reduce_dim_LDA__n_components': N_FEATURES_OPTIONS_LDA,\n",
    "        'classify': [BaggingClassifier(base_estimator=KNeighborsClassifier(n_neighbors=1))],\n",
    "        'classify__n_estimators': N_BASE_MODELS,\n",
    "        'classify__max_features': MAX_FEATURES,\n",
    "        'classify__max_samples': MAX_SAMPLES,\n",
    "    }\n",
    "]\n",
    "grid = GridSearchCV(pipe, cv=5, n_jobs=1, param_grid=param_grid)\n",
    "grid.fit(X_train, y_train)"
   ]
  },
  {
   "cell_type": "code",
   "execution_count": 62,
   "metadata": {},
   "outputs": [
    {
     "data": {
      "text/plain": [
       "{'classify': BaggingClassifier(base_estimator=KNeighborsClassifier(algorithm='auto', leaf_size=30, metric='minkowski',\n",
       "            metric_params=None, n_jobs=None, n_neighbors=1, p=2,\n",
       "            weights='uniform'),\n",
       "          bootstrap=True, bootstrap_features=False, max_features=0.6,\n",
       "          max_samples=1.0, n_estimators=50, n_jobs=None, oob_score=False,\n",
       "          random_state=None, verbose=0, warm_start=False),\n",
       " 'classify__max_features': 0.6,\n",
       " 'classify__max_samples': 1.0,\n",
       " 'classify__n_estimators': 50,\n",
       " 'reduce_dim_LDA__n_components': 50,\n",
       " 'reduce_dim_PCA': PCA(copy=True, iterated_power='auto', n_components=150, random_state=None,\n",
       "   svd_solver='auto', tol=0.0, whiten=True),\n",
       " 'reduce_dim_PCA__n_components': 150}"
      ]
     },
     "execution_count": 62,
     "metadata": {},
     "output_type": "execute_result"
    }
   ],
   "source": [
    "grid.best_params_"
   ]
  },
  {
   "cell_type": "code",
   "execution_count": 63,
   "metadata": {},
   "outputs": [
    {
     "name": "stdout",
     "output_type": "stream",
     "text": [
      "Best score :  0.9134615384615384\n"
     ]
    },
    {
     "data": {
      "image/png": "[encoded data removed]",
      "text/plain": [
       "<Figure size 432x288 with 2 Axes>"
      ]
     },
     "metadata": {
      "needs_background": "light"
     },
     "output_type": "display_data"
    }
   ],
   "source": [
    "y_pred = grid.best_estimator_.predict(X_test)\n",
    "conf_mat = confusion_matrix(y_test, y_pred)\n",
    "plt.imshow(conf_mat, interpolation='nearest')\n",
    "plt.colorbar()\n",
    "accuracy = np.count_nonzero(y_pred == y_test) / len (y_test)\n",
    "print(\"Best score : \", accuracy)"
   ]
  },
  {
   "cell_type": "code",
   "execution_count": 64,
   "metadata": {},
   "outputs": [
    {
     "data": {
      "text/plain": [
       "<matplotlib.colorbar.Colorbar at 0x7f10a5bc65f8>"
      ]
     },
     "execution_count": 64,
     "metadata": {},
     "output_type": "execute_result"
    },
    {
     "data": {
      "image/png": "[encoded data removed]",
      "text/plain": [
       "<Figure size 1152x576 with 4 Axes>"
      ]
     },
     "metadata": {
      "needs_background": "light"
     },
     "output_type": "display_data"
    }
   ],
   "source": [
    "mean_scores = np.array(grid.cv_results_['mean_test_score'])\n",
    "mean_scores = mean_scores.reshape(len(N_FEATURES_OPTIONS_LDA), len(N_FEATURES_OPTIONS_PCA), \n",
    "                                  len(MAX_FEATURES), len(MAX_SAMPLES), len(N_BASE_MODELS))\n",
    "plt.figure(figsize=(16,8))\n",
    "plt.subplot(1,2,1)\n",
    "plt.imshow(mean_scores[0,0,:,:,N_BASE_MODELS.index(200)], interpolation='nearest')\n",
    "plt.title(\"Grid search of optimum parameters\")\n",
    "plt.xlabel('Proportion of fisherfaces samples')\n",
    "plt.ylabel('Proportion of fisherfaces features')\n",
    "plt.xticks(range(len(MAX_SAMPLES)), MAX_SAMPLES)\n",
    "plt.yticks(range(len(MAX_FEATURES)), MAX_FEATURES)\n",
    "plt.colorbar()\n",
    "plt.subplot(1,2,2)\n",
    "plt.imshow(mean_scores[0,0,:,3,:], interpolation='nearest')\n",
    "plt.title(\"Grid search of optimum parameters\")\n",
    "plt.xlabel('Number of base model')\n",
    "plt.ylabel('Proportion of fisherfaces features')\n",
    "plt.xticks(range(len(N_BASE_MODELS)), N_BASE_MODELS)\n",
    "plt.yticks(range(len(MAX_FEATURES)), MAX_FEATURES)\n",
    "plt.colorbar()"
   ]
  },
  {
   "cell_type": "code",
   "execution_count": 65,
   "metadata": {},
   "outputs": [
    {
     "name": "stdout",
     "output_type": "stream",
     "text": [
      "Mean single model accuracy :  0.7467307692307692\n"
     ]
    }
   ],
   "source": [
    "scores = []\n",
    "for i in range(len(y_test)):\n",
    "    scores.append(grid.best_estimator_.predict_proba(X_test)[i, y_test[i]-1])\n",
    "print(\"Mean single model accuracy : \", np.mean(scores))"
   ]
  },
  {
   "cell_type": "markdown",
   "metadata": {},
   "source": [
    "# PCA-LDA Ensemble with high randomness (i.e. PCA and LDA computed locally but their M are fixed)"
   ]
  },
  {
   "cell_type": "code",
   "execution_count": 5,
   "metadata": {},
   "outputs": [
    {
     "name": "stderr",
     "output_type": "stream",
     "text": [
      "/opt/conda/lib/python3.6/site-packages/sklearn/model_selection/_search.py:841: DeprecationWarning: The default of the `iid` parameter will change from True to False in version 0.22 and will be removed in 0.24. This will change numeric results when test-set sizes are unequal.\n",
      "  DeprecationWarning)\n"
     ]
    },
    {
     "data": {
      "text/plain": [
       "GridSearchCV(cv=5, error_score='raise-deprecating',\n",
       "       estimator=BaggingClassifier(base_estimator=Pipeline(memory=None,\n",
       "     steps=[('reduce_dim_PCA', PCA(copy=True, iterated_power='auto', n_components=None, random_state=None,\n",
       "  svd_solver='auto', tol=0.0, whiten=False)), ('reduce_dim_LDA', LinearDiscriminantAnalysis(n_components=None, priors=None, shri...stimators=10, n_jobs=None, oob_score=False,\n",
       "         random_state=None, verbose=0, warm_start=False),\n",
       "       fit_params=None, iid='warn', n_jobs=1,\n",
       "       param_grid=[{'base_estimator__reduce_dim_PCA__n_components': [100], 'base_estimator__reduce_dim_LDA__n_components': [50], 'n_estimators': [300, 350, 400], 'max_features': [0.04, 0.05, 0.06], 'max_samples': [0.6, 0.8, 1.0]}],\n",
       "       pre_dispatch='2*n_jobs', refit=True, return_train_score='warn',\n",
       "       scoring=None, verbose=0)"
      ]
     },
     "execution_count": 5,
     "metadata": {},
     "output_type": "execute_result"
    }
   ],
   "source": [
    "pipe = Pipeline([\n",
    "    ('reduce_dim_PCA', PCA()),\n",
    "    ('reduce_dim_LDA', LinearDiscriminantAnalysis()),\n",
    "    ('classify', KNeighborsClassifier(n_neighbors=1))\n",
    "])\n",
    "\n",
    "N_FEATURES_OPTIONS_PCA = [100]\n",
    "N_FEATURES_OPTIONS_LDA = [50]\n",
    "MAX_FEATURES = [0.04, 0.05, 0.06]\n",
    "MAX_SAMPLES = [0.6, 0.8, 1.0]\n",
    "N_BASE_MODELS = [300, 350, 400]\n",
    "\n",
    "param_grid = [\n",
    "    {\n",
    "        'base_estimator__reduce_dim_PCA__n_components': N_FEATURES_OPTIONS_PCA,\n",
    "        'base_estimator__reduce_dim_LDA__n_components': N_FEATURES_OPTIONS_LDA,\n",
    "        'n_estimators': N_BASE_MODELS,\n",
    "        'max_features': MAX_FEATURES,\n",
    "        'max_samples': MAX_SAMPLES,\n",
    "    }\n",
    "]\n",
    "bag = BaggingClassifier(base_estimator=pipe)\n",
    "grid = GridSearchCV(bag, cv=5, n_jobs=1, param_grid=param_grid)\n",
    "grid.fit(X_train, y_train)"
   ]
  },
  {
   "cell_type": "code",
   "execution_count": 6,
   "metadata": {},
   "outputs": [
    {
     "data": {
      "text/plain": [
       "{'base_estimator__reduce_dim_LDA__n_components': 50,\n",
       " 'base_estimator__reduce_dim_PCA__n_components': 100,\n",
       " 'max_features': 0.04,\n",
       " 'max_samples': 1.0,\n",
       " 'n_estimators': 350}"
      ]
     },
     "execution_count": 6,
     "metadata": {},
     "output_type": "execute_result"
    }
   ],
   "source": [
    "grid.best_params_"
   ]
  },
  {
   "cell_type": "code",
   "execution_count": 7,
   "metadata": {},
   "outputs": [
    {
     "name": "stdout",
     "output_type": "stream",
     "text": [
      "Best score :  0.9807692307692307\n"
     ]
    },
    {
     "data": {
      "image/png": "[encoded data removed]",
      "text/plain": [
       "<Figure size 576x576 with 2 Axes>"
      ]
     },
     "metadata": {
      "needs_background": "light"
     },
     "output_type": "display_data"
    }
   ],
   "source": [
    "y_pred = grid.best_estimator_.predict(X_test)\n",
    "conf_mat = confusion_matrix(y_test, y_pred)\n",
    "plt.figure(figsize=(8,8))\n",
    "plt.imshow(conf_mat, interpolation='nearest')\n",
    "plt.colorbar()\n",
    "accuracy = np.count_nonzero(y_pred == y_test) / len (y_test)\n",
    "print(\"Best score : \", accuracy)"
   ]
  },
  {
   "cell_type": "code",
   "execution_count": 10,
   "metadata": {},
   "outputs": [
    {
     "data": {
      "text/plain": [
       "<matplotlib.colorbar.Colorbar at 0x7f430bd00be0>"
      ]
     },
     "execution_count": 10,
     "metadata": {},
     "output_type": "execute_result"
    },
    {
     "data": {
      "image/png": "[encoded data removed]",
      "text/plain": [
       "<Figure size 1152x576 with 4 Axes>"
      ]
     },
     "metadata": {
      "needs_background": "light"
     },
     "output_type": "display_data"
    }
   ],
   "source": [
    "mean_scores = np.array(grid.cv_results_['mean_test_score'])\n",
    "mean_scores = mean_scores.reshape(len(N_FEATURES_OPTIONS_LDA), len(N_FEATURES_OPTIONS_PCA), \n",
    "                                  len(MAX_FEATURES), len(MAX_SAMPLES), len(N_BASE_MODELS))\n",
    "plt.figure(figsize=(16,8))\n",
    "plt.subplot(1,2,1)\n",
    "plt.imshow(mean_scores[0,0,:,:,N_BASE_MODELS.index(350)], interpolation='nearest')\n",
    "plt.title(\"Grid search of optimum parameters\")\n",
    "plt.xlabel('Proportion of input samples')\n",
    "plt.ylabel('Proportion of input features')\n",
    "plt.xticks(range(len(MAX_SAMPLES)), MAX_SAMPLES)\n",
    "plt.yticks(range(len(MAX_FEATURES)), MAX_FEATURES)\n",
    "plt.colorbar()\n",
    "plt.subplot(1,2,2)\n",
    "plt.imshow(mean_scores[0,0,:,2,:], interpolation='nearest')\n",
    "plt.title(\"Grid search of optimum parameters\")\n",
    "plt.xlabel('Number of base model')\n",
    "plt.ylabel('Proportion of input features')\n",
    "plt.xticks(range(len(N_BASE_MODELS)), N_BASE_MODELS)\n",
    "plt.yticks(range(len(MAX_FEATURES)), MAX_FEATURES)\n",
    "plt.colorbar()"
   ]
  },
  {
   "cell_type": "code",
   "execution_count": 9,
   "metadata": {},
   "outputs": [
    {
     "name": "stdout",
     "output_type": "stream",
     "text": [
      "Mean single model accuracy :  0.654532967032967\n"
     ]
    }
   ],
   "source": [
    "scores = []\n",
    "for i in range(len(y_test)):\n",
    "    scores.append(grid.best_estimator_.predict_proba(X_test)[i, y_test[i]-1])\n",
    "print(\"Mean single model accuracy : \", np.mean(scores))"
   ]
  },
  {
   "cell_type": "code",
   "execution_count": null,
   "metadata": {},
   "outputs": [],
   "source": []
  }
 ],
 "metadata": {
  "kernelspec": {
   "display_name": "Python 3",
   "language": "python",
   "name": "python3"
  },
  "language_info": {
   "codemirror_mode": {
    "name": "ipython",
    "version": 3
   },
   "file_extension": ".py",
   "mimetype": "text/x-python",
   "name": "python",
   "nbconvert_exporter": "python",
   "pygments_lexer": "ipython3",
   "version": "3.6.5"
  }
 },
 "nbformat": 4,
 "nbformat_minor": 2
}
